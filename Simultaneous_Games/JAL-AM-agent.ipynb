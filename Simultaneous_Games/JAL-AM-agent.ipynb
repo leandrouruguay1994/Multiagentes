{
 "cells": [
  {
   "cell_type": "code",
   "execution_count": 79,
   "id": "94b3f230",
   "metadata": {},
   "outputs": [],
   "source": [
    "import lbforaging\n",
    "import numpy as np\n",
    "import time\n",
    "import matplotlib.pyplot as plt\n",
    "\n",
    "from games.foraging import Foraging\n",
    "from agents.jal_am_agent import JALAgent, JALAgentConfig\n",
    "from agents.iql_agent import IQLAgent, IQLAgentConfig\n",
    "from agents.dumb_agent import DumbAgent\n",
    "\n",
    "from utils import *"
   ]
  },
  {
   "cell_type": "code",
   "execution_count": 80,
   "id": "7521b885",
   "metadata": {},
   "outputs": [],
   "source": [
    "game_config = [\n",
    "        \"Foraging-5x5-2p-1f-v3\", # jal vs jal // iql vs jal\n",
    "        \"Foraging-5x5-3p-1f-v3\", # iql vs iql vs jal // iql vs jal vs jal\n",
    "        \"Foraging-8x8-2p-1f-coop-v3\", \n",
    "    ]"
   ]
  },
  {
   "cell_type": "code",
   "execution_count": 81,
   "id": "36752a3b",
   "metadata": {},
   "outputs": [],
   "source": [
    "configurations = {\n",
    "    '0' : {\n",
    "        'game': game_config[0],\n",
    "        'jal': JALAgentConfig(alpha=0.1, min_epsilon=0.01, epsilon_decay=0.9995, max_t=20000, seed=1),\n",
    "        'train_config': {\n",
    "            'episodes': 100,\n",
    "            'iterations': 50,\n",
    "        },\n",
    "        'agent_types': {\n",
    "            'agent_0': 'jal',\n",
    "            'agent_1': 'jal'\n",
    "        }\n",
    "    },\n",
    "    '1' : {\n",
    "        'game': game_config[0],\n",
    "        'iql': IQLAgentConfig(alpha=0.1, min_epsilon=0.01, epsilon_decay=0.99995, max_t=1000, seed=1),\n",
    "        'jal': JALAgentConfig(alpha=0.1, min_epsilon=0.01, epsilon_decay=0.9995,max_t=10000, seed=1),\n",
    "        'train_config': {\n",
    "            'episodes': 120,\n",
    "            'iterations': 70,\n",
    "        },\n",
    "        'agent_types': {\n",
    "        'agent_0': 'iql',\n",
    "        'agent_1': 'jal'\n",
    "        }\n",
    "    },\n",
    "    '2' : {\n",
    "        'game': game_config[2],\n",
    "        'iql': IQLAgentConfig(alpha=0.1, min_epsilon=0.01, epsilon_decay=0.99995, max_t=1000, seed=1),\n",
    "        'jal': JALAgentConfig(alpha=0.1, min_epsilon=0.01, epsilon_decay=0.99995, max_t=20000, seed=1),\n",
    "        'train_config': {\n",
    "            'episodes': 100,\n",
    "            'iterations': 100,\n",
    "        },\n",
    "        'agent_types': {\n",
    "        'agent_0': 'jal',\n",
    "        'agent_1': 'iql',\n",
    "        'agent_2': 'jal'\n",
    "        }\n",
    "    },\n",
    "    '3' : {\n",
    "        'game': game_config[2],\n",
    "        'iql': IQLAgentConfig(alpha=0.1, min_epsilon=0.01, epsilon_decay=0.99995, max_t=1000, seed=1),\n",
    "        'jal': JALAgentConfig(alpha=0.1, min_epsilon=0.01, epsilon_decay=0.99995, max_t=60000, seed=1),\n",
    "        'train_config': {\n",
    "            'episodes': 100,\n",
    "            'iterations': 100,\n",
    "        },\n",
    "        'agent_types': {\n",
    "        'agent_0': 'iql',\n",
    "        'agent_1': 'jal',\n",
    "        'agent_2': 'jal'\n",
    "        }\n",
    "    },\n",
    "    '4' : {\n",
    "        'game': game_config[2],\n",
    "        'jal': JALAgentConfig(alpha=0.1, min_epsilon=0.01, epsilon_decay=0.99995, max_t=60000, seed=1),\n",
    "        'jal': JALAgentConfig(alpha=0.1, min_epsilon=0.01, epsilon_decay=0.99995, max_t=60000, seed=1),\n",
    "        'train_config': {\n",
    "            'episodes': 100,\n",
    "            'iterations': 20,\n",
    "        },\n",
    "        'agent_types': {\n",
    "        'agent_0': 'jal',\n",
    "        'agent_1': 'jal',\n",
    "        }\n",
    "    },\n",
    "    '5' : {\n",
    "        'game': game_config[2],\n",
    "        'iql': IQLAgentConfig(alpha=0.1, min_epsilon=0.01, epsilon_decay=0.99995, max_t=1000, seed=1),\n",
    "        'iql': IQLAgentConfig(alpha=0.1, min_epsilon=0.01, epsilon_decay=0.99995, max_t=1000, seed=1),\n",
    "        'train_config': {\n",
    "            'episodes': 100,\n",
    "            'iterations': 100,\n",
    "        },\n",
    "        'agent_types': {\n",
    "        'agent_0': 'iql',\n",
    "        'agent_1': 'iql',\n",
    "        }\n",
    "    }\n",
    "}"
   ]
  },
  {
   "cell_type": "markdown",
   "id": "db6a7eb7",
   "metadata": {},
   "source": [
    "# Foraging-8x8-2p-1f-coop-v3: JALAgent vs IQLAgent"
   ]
  },
  {
   "cell_type": "code",
   "execution_count": 82,
   "id": "f3d4b93f",
   "metadata": {},
   "outputs": [],
   "source": [
    "config = configurations['3']\n",
    "game = Foraging(config=config['game'], seed=1)\n",
    "\n",
    "agents = {}\n",
    "\n",
    "for agent_id in game.agents:\n",
    "    agent_type = config['agent_types'].get(agent_id, 'jal')\n",
    "    if agent_type == 'jal':\n",
    "        agents[agent_id] = JALAgent(game, agent_id, config['jal'])\n",
    "    else:\n",
    "        agents[agent_id] = IQLAgent(game, agent_id, config['iql'])\n"
   ]
  },
  {
   "cell_type": "code",
   "execution_count": 83,
   "id": "7ddc71fd",
   "metadata": {},
   "outputs": [
    {
     "name": "stdout",
     "output_type": "stream",
     "text": [
      "Agent: agent_0\n",
      "Observation: [6. 2. 4. 4. 6. 2. 0. 1. 2.]\n",
      "Agent: agent_1\n",
      "Observation: [6. 2. 4. 0. 1. 2. 4. 6. 2.]\n"
     ]
    }
   ],
   "source": [
    "game.reset()\n",
    "for agent in game.agents:\n",
    "    print(f\"Agent: {agent}\")\n",
    "    print(f\"Observation: {game.observe(agent)}\")"
   ]
  },
  {
   "cell_type": "code",
   "execution_count": 84,
   "id": "081d32a0",
   "metadata": {},
   "outputs": [
    {
     "name": "stdout",
     "output_type": "stream",
     "text": [
      "Iteration 10 (1000 episodes)\n",
      "Agent agent_0: 0.0\n",
      "Agent agent_1: 0.0\n",
      "Iteration 20 (2000 episodes)\n",
      "Agent agent_0: 0.205\n",
      "Agent agent_1: 0.205\n",
      "Iteration 30 (3000 episodes)\n",
      "Agent agent_0: 0.5\n",
      "Agent agent_1: 0.5\n",
      "Iteration 40 (4000 episodes)\n",
      "Agent agent_0: 0.5\n",
      "Agent agent_1: 0.5\n",
      "Iteration 50 (5000 episodes)\n",
      "Agent agent_0: 0.5\n",
      "Agent agent_1: 0.5\n",
      "Iteration 60 (6000 episodes)\n",
      "Agent agent_0: 0.5\n",
      "Agent agent_1: 0.5\n",
      "Iteration 70 (7000 episodes)\n",
      "Agent agent_0: 0.5\n",
      "Agent agent_1: 0.5\n",
      "Iteration 80 (8000 episodes)\n",
      "Agent agent_0: 0.5\n",
      "Agent agent_1: 0.5\n",
      "Iteration 90 (9000 episodes)\n",
      "Agent agent_0: 0.5\n",
      "Agent agent_1: 0.5\n",
      "Iteration 100 (10000 episodes)\n",
      "Agent agent_0: 0.5\n",
      "Agent agent_1: 0.5\n",
      "Last average rewards over 100 iterations (10000 episodes):\n",
      "Agent agent_0: 0.5\n",
      "Agent agent_1: 0.5\n"
     ]
    }
   ],
   "source": [
    "average_rewards = train(game, agents, train_config=config['train_config'], progress=True, verbose=False, render=False)"
   ]
  },
  {
   "cell_type": "markdown",
   "id": "b1cd51ca",
   "metadata": {},
   "source": [
    "# Foraging-8x8-2p-1f-coop-v3: JALAgent vs IQLAgent"
   ]
  },
  {
   "cell_type": "code",
   "execution_count": 85,
   "id": "53ae3aef",
   "metadata": {},
   "outputs": [
    {
     "data": {
      "image/png": "[encoded data removed]",
      "text/plain": [
       "<Figure size 640x480 with 1 Axes>"
      ]
     },
     "metadata": {},
     "output_type": "display_data"
    }
   ],
   "source": [
    "for agent, rewards in average_rewards.items():\n",
    "    plt.plot(rewards, label=f\"{agent} ({config['agent_types'][agent]})\")\n",
    "\n",
    "plt.xlabel('Iterations')\n",
    "plt.ylabel('Average Reward')\n",
    "plt.title(f\"Average Reward ({config['game']}/ {config['train_config']['iterations']}x{config['train_config']['episodes']} episodes)\")\n",
    "plt.legend()\n",
    "plt.show()"
   ]
  },
  {
   "cell_type": "code",
   "execution_count": 86,
   "id": "376cc4c1",
   "metadata": {},
   "outputs": [],
   "source": [
    "for agent in game.agents:\n",
    "    agents[agent].learn = False"
   ]
  },
  {
   "cell_type": "code",
   "execution_count": 87,
   "id": "593389b3",
   "metadata": {},
   "outputs": [
    {
     "name": "stdout",
     "output_type": "stream",
     "text": [
      "\n",
      "Evaluation results:\n",
      "Agent agent_0: Avg reward = 0.50 ± 0.00\n",
      "Agent agent_1: Avg reward = 0.50 ± 0.00\n"
     ]
    }
   ],
   "source": [
    "eval_rewards = {agent: [] for agent in game.agents}\n",
    "rewards = play_episode(game, agents, render=False)\n",
    "for agent in rewards:\n",
    "    eval_rewards[agent].append(rewards[agent])\n",
    "    \n",
    "print(\"\\nEvaluation results:\")\n",
    "for agent, rewards in eval_rewards.items():\n",
    "    print(f\"Agent {agent}: Avg reward = {np.mean(rewards):.2f} ± {np.std(rewards):.2f}\")"
   ]
  },
  {
   "cell_type": "markdown",
   "id": "2f5158bf",
   "metadata": {},
   "source": [
    "---"
   ]
  },
  {
   "cell_type": "markdown",
   "id": "b21057d9",
   "metadata": {},
   "source": [
    "# Foraging-8x8-2p-1f-coop-v3: JALAgent vs JALAgent"
   ]
  },
  {
   "cell_type": "code",
   "execution_count": 88,
   "id": "ea6aa55f",
   "metadata": {},
   "outputs": [],
   "source": [
    "config = configurations['4']\n",
    "game = Foraging(config=config['game'], seed=1)\n",
    "\n",
    "agents = {}\n",
    "\n",
    "for agent_id in game.agents:\n",
    "    agent_type = config['agent_types'].get(agent_id, 'jal')\n",
    "    if agent_type == 'jal':\n",
    "        agents[agent_id] = JALAgent(game, agent_id, config['jal'])\n",
    "    else:\n",
    "        agents[agent_id] = JALAgent(game, agent_id, config['jal'])"
   ]
  },
  {
   "cell_type": "code",
   "execution_count": 89,
   "id": "3130a90f",
   "metadata": {},
   "outputs": [
    {
     "name": "stdout",
     "output_type": "stream",
     "text": [
      "Agent: agent_0\n",
      "Observation: [6. 2. 4. 4. 6. 2. 0. 1. 2.]\n",
      "Agent: agent_1\n",
      "Observation: [6. 2. 4. 0. 1. 2. 4. 6. 2.]\n"
     ]
    }
   ],
   "source": [
    "game.reset()\n",
    "for agent in game.agents:\n",
    "    print(f\"Agent: {agent}\")\n",
    "    print(f\"Observation: {game.observe(agent)}\")"
   ]
  },
  {
   "cell_type": "code",
   "execution_count": 90,
   "id": "4993643b",
   "metadata": {},
   "outputs": [
    {
     "name": "stdout",
     "output_type": "stream",
     "text": [
      "Iteration 10 (1000 episodes)\n",
      "Agent agent_0: 0.49\n",
      "Agent agent_1: 0.49\n",
      "Iteration 20 (2000 episodes)\n",
      "Agent agent_0: 0.5\n",
      "Agent agent_1: 0.5\n",
      "Last average rewards over 20 iterations (2000 episodes):\n",
      "Agent agent_0: 0.5\n",
      "Agent agent_1: 0.5\n"
     ]
    }
   ],
   "source": [
    "average_rewards = train(game, agents, train_config=config['train_config'], progress=True, verbose=False, render=False)"
   ]
  },
  {
   "cell_type": "markdown",
   "id": "d3d7d9f7",
   "metadata": {},
   "source": [
    "# Foraging-8x8-2p-1f-coop-v3: JALAgent vs JALAgent"
   ]
  },
  {
   "cell_type": "code",
   "execution_count": 91,
   "id": "64c06dca",
   "metadata": {},
   "outputs": [
    {
     "data": {
      "image/png": "[encoded data removed]",
      "text/plain": [
       "<Figure size 640x480 with 1 Axes>"
      ]
     },
     "metadata": {},
     "output_type": "display_data"
    }
   ],
   "source": [
    "for agent, rewards in average_rewards.items():\n",
    "    plt.plot(rewards, label=f\"{agent} ({config['agent_types'][agent]})\")\n",
    "\n",
    "plt.xlabel('Iterations')\n",
    "plt.ylabel('Average Reward')\n",
    "plt.title(f\"Average Reward ({config['game']}/ {config['train_config']['iterations']}x{config['train_config']['episodes']} episodes)\")\n",
    "plt.legend()\n",
    "plt.show()"
   ]
  },
  {
   "cell_type": "code",
   "execution_count": 92,
   "id": "c785dc8b",
   "metadata": {},
   "outputs": [],
   "source": [
    "for agent in game.agents:\n",
    "    agents[agent].learn = False"
   ]
  },
  {
   "cell_type": "code",
   "execution_count": 93,
   "id": "6cf561cc",
   "metadata": {},
   "outputs": [
    {
     "name": "stdout",
     "output_type": "stream",
     "text": [
      "\n",
      "Evaluation results:\n",
      "Agent agent_0: Avg reward = 0.50 ± 0.00\n",
      "Agent agent_1: Avg reward = 0.50 ± 0.00\n"
     ]
    }
   ],
   "source": [
    "eval_rewards = {agent: [] for agent in game.agents}\n",
    "rewards = play_episode(game, agents, render=False)\n",
    "for agent in rewards:\n",
    "    eval_rewards[agent].append(rewards[agent])\n",
    "    \n",
    "print(\"\\nEvaluation results:\")\n",
    "for agent, rewards in eval_rewards.items():\n",
    "    print(f\"Agent {agent}: Avg reward = {np.mean(rewards):.2f} ± {np.std(rewards):.2f}\")"
   ]
  },
  {
   "cell_type": "markdown",
   "id": "f03bb831",
   "metadata": {},
   "source": [
    "# Foraging-8x8-2p-1f-coop-v3: IQLAgent vs IQLAgent"
   ]
  },
  {
   "cell_type": "code",
   "execution_count": 94,
   "id": "3acd7908",
   "metadata": {},
   "outputs": [],
   "source": [
    "config = configurations['5']\n",
    "game = Foraging(config=config['game'], seed=1)\n",
    "\n",
    "agents = {}\n",
    "\n",
    "for agent_id in game.agents:\n",
    "    agent_type = config['agent_types'].get(agent_id, 'jal')\n",
    "    if agent_type == 'jal':\n",
    "        agents[agent_id] = IQLAgent(game, agent_id, config['iql'])\n",
    "    else:\n",
    "        agents[agent_id] = IQLAgent(game, agent_id, config['iql'])"
   ]
  },
  {
   "cell_type": "code",
   "execution_count": 95,
   "id": "5c8f062d",
   "metadata": {},
   "outputs": [
    {
     "name": "stdout",
     "output_type": "stream",
     "text": [
      "Agent: agent_0\n",
      "Observation: [6. 2. 4. 4. 6. 2. 0. 1. 2.]\n",
      "Agent: agent_1\n",
      "Observation: [6. 2. 4. 0. 1. 2. 4. 6. 2.]\n"
     ]
    }
   ],
   "source": [
    "game.reset()\n",
    "for agent in game.agents:\n",
    "    print(f\"Agent: {agent}\")\n",
    "    print(f\"Observation: {game.observe(agent)}\")"
   ]
  },
  {
   "cell_type": "code",
   "execution_count": 96,
   "id": "d55dc652",
   "metadata": {},
   "outputs": [
    {
     "name": "stdout",
     "output_type": "stream",
     "text": [
      "Iteration 10 (1000 episodes)\n",
      "Agent agent_0: 0.0\n",
      "Agent agent_1: 0.0\n",
      "Iteration 20 (2000 episodes)\n",
      "Agent agent_0: 0.49\n",
      "Agent agent_1: 0.49\n",
      "Iteration 30 (3000 episodes)\n",
      "Agent agent_0: 0.5\n",
      "Agent agent_1: 0.5\n",
      "Iteration 40 (4000 episodes)\n",
      "Agent agent_0: 0.5\n",
      "Agent agent_1: 0.5\n",
      "Iteration 50 (5000 episodes)\n",
      "Agent agent_0: 0.5\n",
      "Agent agent_1: 0.5\n",
      "Iteration 60 (6000 episodes)\n",
      "Agent agent_0: 0.5\n",
      "Agent agent_1: 0.5\n",
      "Iteration 70 (7000 episodes)\n",
      "Agent agent_0: 0.5\n",
      "Agent agent_1: 0.5\n",
      "Iteration 80 (8000 episodes)\n",
      "Agent agent_0: 0.5\n",
      "Agent agent_1: 0.5\n",
      "Iteration 90 (9000 episodes)\n",
      "Agent agent_0: 0.495\n",
      "Agent agent_1: 0.495\n",
      "Iteration 100 (10000 episodes)\n",
      "Agent agent_0: 0.5\n",
      "Agent agent_1: 0.5\n",
      "Last average rewards over 100 iterations (10000 episodes):\n",
      "Agent agent_0: 0.5\n",
      "Agent agent_1: 0.5\n"
     ]
    }
   ],
   "source": [
    "average_rewards = train(game, agents, train_config=config['train_config'], progress=True, verbose=False, render=False)"
   ]
  },
  {
   "cell_type": "markdown",
   "id": "9ddd78a6",
   "metadata": {},
   "source": [
    "# Foraging-8x8-2p-1f-coop-v3: IQLAgent vs IQLAgent"
   ]
  },
  {
   "cell_type": "code",
   "execution_count": 97,
   "id": "f7d7f3b4",
   "metadata": {},
   "outputs": [
    {
     "data": {
      "image/png": "[encoded data removed]",
      "text/plain": [
       "<Figure size 640x480 with 1 Axes>"
      ]
     },
     "metadata": {},
     "output_type": "display_data"
    }
   ],
   "source": [
    "for agent, rewards in average_rewards.items():\n",
    "    plt.plot(rewards, label=f\"{agent} ({config['agent_types'][agent]})\")\n",
    "\n",
    "plt.xlabel('Iterations')\n",
    "plt.ylabel('Average Reward')\n",
    "plt.title(f\"Average Reward ({config['game']}/ {config['train_config']['iterations']}x{config['train_config']['episodes']} episodes)\")\n",
    "plt.legend()\n",
    "plt.show()"
   ]
  },
  {
   "cell_type": "code",
   "execution_count": 98,
   "id": "1e44a221",
   "metadata": {},
   "outputs": [],
   "source": [
    "for agent in game.agents:\n",
    "    agents[agent].learn = False"
   ]
  },
  {
   "cell_type": "code",
   "execution_count": 99,
   "id": "11f05b12",
   "metadata": {},
   "outputs": [
    {
     "name": "stdout",
     "output_type": "stream",
     "text": [
      "\n",
      "Evaluation results:\n",
      "Agent agent_0: Avg reward = 0.50 ± 0.00\n",
      "Agent agent_1: Avg reward = 0.50 ± 0.00\n"
     ]
    }
   ],
   "source": [
    "eval_rewards = {agent: [] for agent in game.agents}\n",
    "rewards = play_episode(game, agents, render=False)\n",
    "for agent in rewards:\n",
    "    eval_rewards[agent].append(rewards[agent])\n",
    "    \n",
    "print(\"\\nEvaluation results:\")\n",
    "for agent, rewards in eval_rewards.items():\n",
    "    print(f\"Agent {agent}: Avg reward = {np.mean(rewards):.2f} ± {np.std(rewards):.2f}\")"
   ]
  },
  {
   "cell_type": "code",
   "execution_count": 100,
   "id": "a0f9b248",
   "metadata": {},
   "outputs": [],
   "source": [
    "#export_notebook_to_html('JAL-AM-agent.ipynb', 'notebook_exports/JAL-AM-coop')"
   ]
  }
 ],
 "metadata": {
  "kernelspec": {
   "display_name": "pettingzoo",
   "language": "python",
   "name": "python3"
  },
  "language_info": {
   "codemirror_mode": {
    "name": "ipython",
    "version": 3
   },
   "file_extension": ".py",
   "mimetype": "text/x-python",
   "name": "python",
   "nbconvert_exporter": "python",
   "pygments_lexer": "ipython3",
   "version": "3.11.11"
  }
 },
 "nbformat": 4,
 "nbformat_minor": 5
}

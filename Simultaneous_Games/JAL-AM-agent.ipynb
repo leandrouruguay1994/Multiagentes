{
 "cells": [
  {
   "cell_type": "code",
   "execution_count": 7,
   "id": "94b3f230",
   "metadata": {},
   "outputs": [],
   "source": [
    "import lbforaging\n",
    "import numpy as np\n",
    "import time\n",
    "import matplotlib.pyplot as plt\n",
    "\n",
    "from games.foraging import Foraging\n",
    "from agents.jal_am_agent import JALAgent, JALAgentConfig\n",
    "from agents.iql_agent import IQLAgent, IQLAgentConfig\n",
    "from agents.dumb_agent import DumbAgent\n",
    "\n",
    "from utils import *"
   ]
  },
  {
   "cell_type": "code",
   "execution_count": 8,
   "id": "7521b885",
   "metadata": {},
   "outputs": [],
   "source": [
    "game_config = [\n",
    "        \"Foraging-5x5-2p-1f-v3\", # jal vs jal // iql vs jal\n",
    "        \"Foraging-5x5-3p-1f-v3\", # iql vs iql vs jal // iql vs jal vs jal\n",
    "        \"Foraging-5x5-2p-1f-coop-v3\", # jal and jal // iql and jal\n",
    "    ]"
   ]
  },
  {
   "cell_type": "code",
   "execution_count": 9,
   "id": "36752a3b",
   "metadata": {},
   "outputs": [],
   "source": [
    "configurations = {\n",
    "    '0' : {\n",
    "        'game': game_config[0],\n",
    "        'jal': JALAgentConfig(alpha=0.1, min_epsilon=0.01, epsilon_decay=0.9995, max_t=20000, seed=1),\n",
    "        'train_config': {\n",
    "            'episodes': 100,\n",
    "            'iterations': 50,\n",
    "        },\n",
    "        'agent_types': {\n",
    "            'agent_0': 'jal',\n",
    "            'agent_1': 'jal'\n",
    "        }\n",
    "    },\n",
    "    '1' : {\n",
    "        'game': game_config[0],\n",
    "        'iql': IQLAgentConfig(alpha=0.1, min_epsilon=0.01, epsilon_decay=0.99995, max_t=1000, seed=1),\n",
    "        'jal': JALAgentConfig(alpha=0.1, min_epsilon=0.01, epsilon_decay=0.9995,max_t=10000, seed=1),\n",
    "        'train_config': {\n",
    "            'episodes': 120,\n",
    "            'iterations': 70,\n",
    "        },\n",
    "        'agent_types': {\n",
    "        'agent_0': 'iql',\n",
    "        'agent_1': 'jal'\n",
    "        }\n",
    "    },\n",
    "    '2' : {\n",
    "        'game': game_config[2],\n",
    "        'iql': IQLAgentConfig(alpha=0.1, min_epsilon=0.01, epsilon_decay=0.99995, max_t=1000, seed=1),\n",
    "        'jal': JALAgentConfig(alpha=0.1, min_epsilon=0.01, epsilon_decay=0.99995, max_t=20000, seed=1),\n",
    "        'train_config': {\n",
    "            'episodes': 100,\n",
    "            'iterations': 100,\n",
    "        },\n",
    "        'agent_types': {\n",
    "        'agent_0': 'jal',\n",
    "        'agent_1': 'iql',\n",
    "        'agent_2': 'jal'\n",
    "        }\n",
    "    },\n",
    "    '3' : {\n",
    "        'game': game_config[2],\n",
    "        'iql': IQLAgentConfig(alpha=0.1, min_epsilon=0.01, epsilon_decay=0.99995, max_t=1000, seed=1),\n",
    "        'jal': JALAgentConfig(alpha=0.1, min_epsilon=0.01, epsilon_decay=0.99995, max_t=60000, seed=1),\n",
    "        'train_config': {\n",
    "            'episodes': 1000,\n",
    "            'iterations': 100,\n",
    "        },\n",
    "        'agent_types': {\n",
    "        'agent_0': 'iql',\n",
    "        'agent_1': 'jal',\n",
    "        'agent_2': 'jal'\n",
    "        }\n",
    "    },\n",
    "    '4' : {\n",
    "        'game': game_config[2],\n",
    "        'jal': JALAgentConfig(alpha=0.1, min_epsilon=0.01, epsilon_decay=0.99995, max_t=60000, seed=1),\n",
    "        'jal': JALAgentConfig(alpha=0.1, min_epsilon=0.01, epsilon_decay=0.99995, max_t=60000, seed=1),\n",
    "        'train_config': {\n",
    "            'episodes': 1000,\n",
    "            'iterations': 100,\n",
    "        },\n",
    "        'agent_types': {\n",
    "        'agent_0': 'jal',\n",
    "        'agent_1': 'jal',\n",
    "        'agent_2': 'jal'\n",
    "        }\n",
    "    }\n",
    "}"
   ]
  },
  {
   "cell_type": "markdown",
   "id": "db6a7eb7",
   "metadata": {},
   "source": [
    "# Foraging-5x5-2p-1f-coop-v3: IQLAgent and JALAgent"
   ]
  },
  {
   "cell_type": "code",
   "execution_count": 10,
   "id": "f3d4b93f",
   "metadata": {},
   "outputs": [],
   "source": [
    "config = configurations['3']\n",
    "game = Foraging(config=config['game'], seed=1)\n",
    "\n",
    "agents = {}\n",
    "\n",
    "for agent_id in game.agents:\n",
    "    agent_type = config['agent_types'].get(agent_id, 'iql')\n",
    "    if agent_type == 'jal':\n",
    "        agents[agent_id] = JALAgent(game, agent_id, config['jal'])\n",
    "    else:\n",
    "        agents[agent_id] = IQLAgent(game, agent_id, config['iql'])\n"
   ]
  },
  {
   "cell_type": "code",
   "execution_count": 11,
   "id": "7ddc71fd",
   "metadata": {},
   "outputs": [
    {
     "name": "stdout",
     "output_type": "stream",
     "text": [
      "Agent: agent_0\n",
      "Observation: [3. 1. 4. 2. 3. 2. 0. 0. 2.]\n",
      "Agent: agent_1\n",
      "Observation: [3. 1. 4. 0. 0. 2. 2. 3. 2.]\n"
     ]
    }
   ],
   "source": [
    "game.reset()\n",
    "for agent in game.agents:\n",
    "    print(f\"Agent: {agent}\")\n",
    "    print(f\"Observation: {game.observe(agent)}\")"
   ]
  },
  {
   "cell_type": "code",
   "execution_count": 12,
   "id": "081d32a0",
   "metadata": {},
   "outputs": [
    {
     "name": "stdout",
     "output_type": "stream",
     "text": [
      "Iteration 10 (10000 episodes)\n",
      "Agent agent_0: 0.5\n",
      "Agent agent_1: 0.5\n",
      "Iteration 20 (20000 episodes)\n",
      "Agent agent_0: 0.5\n",
      "Agent agent_1: 0.5\n",
      "Iteration 30 (30000 episodes)\n",
      "Agent agent_0: 0.5\n",
      "Agent agent_1: 0.5\n",
      "Iteration 40 (40000 episodes)\n",
      "Agent agent_0: 0.5\n",
      "Agent agent_1: 0.5\n",
      "Iteration 50 (50000 episodes)\n",
      "Agent agent_0: 0.5\n",
      "Agent agent_1: 0.5\n",
      "Iteration 60 (60000 episodes)\n",
      "Agent agent_0: 0.5\n",
      "Agent agent_1: 0.5\n",
      "Iteration 70 (70000 episodes)\n",
      "Agent agent_0: 0.5\n",
      "Agent agent_1: 0.5\n",
      "Iteration 80 (80000 episodes)\n",
      "Agent agent_0: 0.5\n",
      "Agent agent_1: 0.5\n",
      "Iteration 90 (90000 episodes)\n",
      "Agent agent_0: 0.5\n",
      "Agent agent_1: 0.5\n",
      "Iteration 100 (100000 episodes)\n",
      "Agent agent_0: 0.5\n",
      "Agent agent_1: 0.5\n",
      "Last average rewards over 100 iterations (100000 episodes):\n",
      "Agent agent_0: 0.5\n",
      "Agent agent_1: 0.5\n"
     ]
    }
   ],
   "source": [
    "average_rewards = train(game, agents, train_config=config['train_config'], progress=True, verbose=False, render=False)"
   ]
  },
  {
   "cell_type": "markdown",
   "id": "b1cd51ca",
   "metadata": {},
   "source": [
    "# Foraging-5x5-2p-1f-coop-v3: IQLAgent and JALAgent"
   ]
  },
  {
   "cell_type": "code",
   "execution_count": 13,
   "id": "53ae3aef",
   "metadata": {},
   "outputs": [
    {
     "data": {
      "image/png": "[encoded data removed]",
      "text/plain": [
       "<Figure size 640x480 with 1 Axes>"
      ]
     },
     "metadata": {},
     "output_type": "display_data"
    }
   ],
   "source": [
    "for agent, rewards in average_rewards.items():\n",
    "    plt.plot(rewards, label=f\"{agent} ({config['agent_types'][agent]})\")\n",
    "\n",
    "plt.xlabel('Iterations')\n",
    "plt.ylabel('Average Reward')\n",
    "plt.title(f\"Average Reward ({config['game']}/ {config['train_config']['iterations']}x{config['train_config']['episodes']} episodes)\")\n",
    "plt.legend()\n",
    "plt.show()"
   ]
  },
  {
   "cell_type": "code",
   "execution_count": 14,
   "id": "376cc4c1",
   "metadata": {},
   "outputs": [],
   "source": [
    "for agent in game.agents:\n",
    "    agents[agent].learn = False"
   ]
  },
  {
   "cell_type": "code",
   "execution_count": 15,
   "id": "593389b3",
   "metadata": {},
   "outputs": [
    {
     "name": "stdout",
     "output_type": "stream",
     "text": [
      "\n",
      "Evaluation results:\n",
      "Agent agent_0: Avg reward = 0.50 ± 0.00\n",
      "Agent agent_1: Avg reward = 0.50 ± 0.00\n"
     ]
    }
   ],
   "source": [
    "eval_rewards = {agent: [] for agent in game.agents}\n",
    "rewards = play_episode(game, agents, render=False)\n",
    "for agent in rewards:\n",
    "    eval_rewards[agent].append(rewards[agent])\n",
    "    \n",
    "print(\"\\nEvaluation results:\")\n",
    "for agent, rewards in eval_rewards.items():\n",
    "    print(f\"Agent {agent}: Avg reward = {np.mean(rewards):.2f} ± {np.std(rewards):.2f}\")"
   ]
  },
  {
   "cell_type": "markdown",
   "id": "2f5158bf",
   "metadata": {},
   "source": [
    "---"
   ]
  },
  {
   "cell_type": "markdown",
   "id": "88547b58",
   "metadata": {},
   "source": [
    "# Foraging-5x5-2p-1f-coop-v3: JALAgent and JALAgent"
   ]
  },
  {
   "cell_type": "code",
   "execution_count": 16,
   "id": "1a83013d",
   "metadata": {},
   "outputs": [],
   "source": [
    "config = configurations['4']\n",
    "game = Foraging(config=config['game'], seed=1)\n",
    "\n",
    "agents = {}\n",
    "\n",
    "for agent_id in game.agents:\n",
    "    agent_type = config['agent_types'].get(agent_id, 'jal')\n",
    "    if agent_type == 'jal':\n",
    "        agents[agent_id] = JALAgent(game, agent_id, config['jal'])\n",
    "    else:\n",
    "        agents[agent_id] = JALAgent(game, agent_id, config['jal'])"
   ]
  },
  {
   "cell_type": "code",
   "execution_count": 17,
   "id": "6dd5c2b3",
   "metadata": {},
   "outputs": [
    {
     "name": "stdout",
     "output_type": "stream",
     "text": [
      "Agent: agent_0\n",
      "Observation: [3. 1. 4. 2. 3. 2. 0. 0. 2.]\n",
      "Agent: agent_1\n",
      "Observation: [3. 1. 4. 0. 0. 2. 2. 3. 2.]\n"
     ]
    }
   ],
   "source": [
    "game.reset()\n",
    "for agent in game.agents:\n",
    "    print(f\"Agent: {agent}\")\n",
    "    print(f\"Observation: {game.observe(agent)}\")"
   ]
  },
  {
   "cell_type": "code",
   "execution_count": 18,
   "id": "4a69a6c2",
   "metadata": {},
   "outputs": [
    {
     "name": "stdout",
     "output_type": "stream",
     "text": [
      "Iteration 10 (10000 episodes)\n",
      "Agent agent_0: 0.5\n",
      "Agent agent_1: 0.5\n",
      "Iteration 20 (20000 episodes)\n",
      "Agent agent_0: 0.5\n",
      "Agent agent_1: 0.5\n",
      "Iteration 30 (30000 episodes)\n",
      "Agent agent_0: 0.5\n",
      "Agent agent_1: 0.5\n",
      "Iteration 40 (40000 episodes)\n",
      "Agent agent_0: 0.5\n",
      "Agent agent_1: 0.5\n",
      "Iteration 50 (50000 episodes)\n",
      "Agent agent_0: 0.5\n",
      "Agent agent_1: 0.5\n",
      "Iteration 60 (60000 episodes)\n",
      "Agent agent_0: 0.5\n",
      "Agent agent_1: 0.5\n",
      "Iteration 70 (70000 episodes)\n",
      "Agent agent_0: 0.5\n",
      "Agent agent_1: 0.5\n",
      "Iteration 80 (80000 episodes)\n",
      "Agent agent_0: 0.5\n",
      "Agent agent_1: 0.5\n",
      "Iteration 90 (90000 episodes)\n",
      "Agent agent_0: 0.5\n",
      "Agent agent_1: 0.5\n",
      "Iteration 100 (100000 episodes)\n",
      "Agent agent_0: 0.5\n",
      "Agent agent_1: 0.5\n",
      "Last average rewards over 100 iterations (100000 episodes):\n",
      "Agent agent_0: 0.5\n",
      "Agent agent_1: 0.5\n"
     ]
    }
   ],
   "source": [
    "average_rewards = train(game, agents, train_config=config['train_config'], progress=True, verbose=False, render=False)"
   ]
  },
  {
   "cell_type": "markdown",
   "id": "655637d5",
   "metadata": {},
   "source": [
    "# Foraging-5x5-2p-1f-coop-v3: JALAgent and JALAgent"
   ]
  },
  {
   "cell_type": "code",
   "execution_count": 19,
   "id": "52feb8ae",
   "metadata": {},
   "outputs": [
    {
     "data": {
      "image/png": "[encoded data removed]",
      "text/plain": [
       "<Figure size 640x480 with 1 Axes>"
      ]
     },
     "metadata": {},
     "output_type": "display_data"
    }
   ],
   "source": [
    "for agent, rewards in average_rewards.items():\n",
    "    plt.plot(rewards, label=f\"{agent} ({config['agent_types'][agent]})\")\n",
    "\n",
    "plt.xlabel('Iterations')\n",
    "plt.ylabel('Average Reward')\n",
    "plt.title(f\"Average Reward ({config['game']}/ {config['train_config']['iterations']}x{config['train_config']['episodes']} episodes)\")\n",
    "plt.legend()\n",
    "plt.show()"
   ]
  },
  {
   "cell_type": "code",
   "execution_count": 20,
   "id": "f057d7c0",
   "metadata": {},
   "outputs": [],
   "source": [
    "for agent in game.agents:\n",
    "    agents[agent].learn = False"
   ]
  },
  {
   "cell_type": "code",
   "execution_count": 21,
   "id": "a33f410f",
   "metadata": {},
   "outputs": [
    {
     "name": "stdout",
     "output_type": "stream",
     "text": [
      "\n",
      "Evaluation results:\n",
      "Agent agent_0: Avg reward = 0.50 ± 0.00\n",
      "Agent agent_1: Avg reward = 0.50 ± 0.00\n"
     ]
    }
   ],
   "source": [
    "eval_rewards = {agent: [] for agent in game.agents}\n",
    "rewards = play_episode(game, agents, render=False)\n",
    "for agent in rewards:\n",
    "    eval_rewards[agent].append(rewards[agent])\n",
    "    \n",
    "print(\"\\nEvaluation results:\")\n",
    "for agent, rewards in eval_rewards.items():\n",
    "    print(f\"Agent {agent}: Avg reward = {np.mean(rewards):.2f} ± {np.std(rewards):.2f}\")"
   ]
  },
  {
   "cell_type": "markdown",
   "id": "2402d64a",
   "metadata": {},
   "source": [
    "---"
   ]
  },
  {
   "cell_type": "code",
   "execution_count": 22,
   "id": "a0f9b248",
   "metadata": {},
   "outputs": [],
   "source": [
    "export_notebook_to_html('JAL-AM.ipynb', 'notebook_exports/JAL-AM-coop')"
   ]
  }
 ],
 "metadata": {
  "kernelspec": {
   "display_name": "pettingzoo_games",
   "language": "python",
   "name": "python3"
  },
  "language_info": {
   "codemirror_mode": {
    "name": "ipython",
    "version": 3
   },
   "file_extension": ".py",
   "mimetype": "text/x-python",
   "name": "python",
   "nbconvert_exporter": "python",
   "pygments_lexer": "ipython3",
   "version": "3.11.11"
  }
 },
 "nbformat": 4,
 "nbformat_minor": 5
}

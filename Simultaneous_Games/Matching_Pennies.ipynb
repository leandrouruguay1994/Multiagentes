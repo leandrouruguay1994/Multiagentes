{
 "cells": [
  {
   "cell_type": "code",
   "execution_count": null,
   "id": "29b55f50",
   "metadata": {},
   "outputs": [],
   "source": [
    "# cell 1: Importar clases necesarias\n",
    "from games.mp import MP  # Asume que tus juegos están en un módulo 'games'\n",
    "from agents.fictitiousplay import FictitiousPlay\n",
    "from agents.regretmatching import RegretMatching\n",
    "from nf_functions import plot_results, simulate_game"
   ]
  },
  {
   "cell_type": "code",
   "execution_count": null,
   "id": "46376462",
   "metadata": {},
   "outputs": [],
   "source": [
    "# cell 2: Simular FP vs FP\n",
    "history_fp_fp = simulate_game(\n",
    "    MP,\n",
    "    [FictitiousPlay, FictitiousPlay],\n",
    "    n_iter=1000,\n",
    "    initial_policies=[None, None],\n",
    "    seeds=[42, 99]\n",
    ")\n",
    "plot_results(history_fp_fp, \"Matching Pennies: FP vs FP\")"
   ]
  },
  {
   "cell_type": "code",
   "execution_count": null,
   "id": "ae1642b3",
   "metadata": {},
   "outputs": [],
   "source": [
    "# cell 3: Simular RM vs RM\n",
    "history_rm_rm = simulate_game(\n",
    "    MP,\n",
    "    [RegretMatching, RegretMatching],\n",
    "    n_iter=1000\n",
    ")\n",
    "plot_results(history_rm_rm, \"Matching Pennies: RM vs RM\")"
   ]
  },
  {
   "cell_type": "code",
   "execution_count": null,
   "id": "029fa2c7",
   "metadata": {},
   "outputs": [],
   "source": [
    "# cell 4: Simular FP vs RM\n",
    "history_fp_rm = simulate_game(\n",
    "    MP,\n",
    "    [FictitiousPlay, RegretMatching],\n",
    "    n_iter=1000\n",
    ")\n",
    "plot_results(history_fp_rm, \"Matching Pennies: FP vs RM\")"
   ]
  },
  {
   "cell_type": "code",
   "execution_count": null,
   "id": "6a25360c",
   "metadata": {},
   "outputs": [],
   "source": []
  }
 ],
 "metadata": {
  "language_info": {
   "name": "python"
  }
 },
 "nbformat": 4,
 "nbformat_minor": 5
}

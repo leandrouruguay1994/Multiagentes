{
 "cells": [
  {
   "cell_type": "code",
   "execution_count": 1,
   "id": "dfe9c10e",
   "metadata": {},
   "outputs": [],
   "source": [
    "import lbforaging\n",
    "import numpy as np\n",
    "import time, os\n",
    "import matplotlib.pyplot as plt\n",
    "from tqdm import tqdm\n",
    "from games.foraging import Foraging\n",
    "from agents.iql_agent import IQLAgent, IQLAgentConfig\n",
    "from agents.jal_am_agent import JALAgent, JALAgentConfig\n",
    "from nbconvert import HTMLExporter\n",
    "import nbformat"
   ]
  },
  {
   "cell_type": "code",
   "execution_count": 2,
   "id": "0c99c1fd",
   "metadata": {},
   "outputs": [],
   "source": [
    "\n",
    "game_config = [\n",
    "        \"Foraging-5x5-2p-1f-v3\",\n",
    "        \"Foraging-8x8-2p-1f-v3\",\n",
    "        \"Foraging-5x5-3p-1f-v3\",\n",
    "        \"Foraging-5x5-3p-1f-coop-v3\",\n",
    "    ]\n",
    "# Configuración básica\n",
    "config = {\n",
    "    'game': game_config[3],  # Cambia el juego aquí\n",
    "    'iql': IQLAgentConfig(alpha=0.1, min_epsilon=0.01, epsilon_decay=0.99995, max_t=10000, seed=1),\n",
    "    'jal': JALAgentConfig(alpha=0.1, min_epsilon=0.05, epsilon_decay=0.99995, max_t=10000, seed=1),\n",
    "    'train_config': {\n",
    "        'episodes': 100,  # Reducido para pruebas rápidas\n",
    "        'iterations': 100,\n",
    "    },\n",
    "    'eval_config': {\n",
    "        'episodes': 50,\n",
    "    },\n",
    "    'agent_types': {\n",
    "        'agent_0': 'iql',\n",
    "        'agent_1': 'iql'\n",
    "    }\n",
    "}"
   ]
  },
  {
   "cell_type": "code",
   "execution_count": 3,
   "id": "651b2ba5",
   "metadata": {},
   "outputs": [],
   "source": [
    "def save_notebook_to_html(notebook_path=\"simple_test.ipynb\"):\n",
    "    \"\"\"Guarda el notebook como HTML\"\"\"\n",
    "    exporter = HTMLExporter()\n",
    "    notebook = nbformat.read(notebook_path, as_version=4)\n",
    "    html, _ = exporter.from_notebook_node(notebook)\n",
    "    \n",
    "    os.makedirs(\"notebook_exports\", exist_ok=True)\n",
    "    timestamp = time.strftime(\"%Y%m%d-%H%M%S\")\n",
    "    output_path = f\"notebook_exports/simple_experiment_{timestamp}.html\"\n",
    "    \n",
    "    with open(output_path, \"w\") as f:\n",
    "        f.write(html)\n",
    "    \n",
    "    return output_path\n",
    "\n",
    "# Función simplificada para jugar un episodio\n",
    "def play_episode(game, agents, verbose=False, render=False):\n",
    "    game.reset()\n",
    "    step_count = 0\n",
    "    for agent in game.agents:\n",
    "        agents[agent].reset()\n",
    "\n",
    "    if verbose:\n",
    "        print(f\"Step: {step_count}\")\n",
    "        for agent in game.agents:\n",
    "            print(f\"Agent {agent} observe: {game.observe(agent)}\")\n",
    "    \n",
    "    cum_rewards = {agent: 0.0 for agent in game.agents}\n",
    "    \n",
    "    while not game.done():\n",
    "        step_count += 1\n",
    "        actions = {}\n",
    "        for agent in game.agents:\n",
    "            actions[agent] = agents[agent].action()\n",
    "        \n",
    "        game.step(actions)\n",
    "        \n",
    "        for agent in game.agents:\n",
    "            cum_rewards[agent] += game.reward(agent)\n",
    "            agents[agent].update()\n",
    "            \n",
    "        if verbose:\n",
    "            print(f\"Step: {step_count}\")\n",
    "            for agent in game.agents:\n",
    "                print(f\"Agent {agent} observe: {game.observe(agent)}\")\n",
    "\n",
    "                # Print actions, rewards and next state if verbose is enabled\n",
    "        if verbose:\n",
    "            print(f\"Step: {step_count}\")\n",
    "            for agent in game.agents:\n",
    "                print(f\"Agent {agent} action: {actions[agent]} - {game.action_set[actions[agent]]}\")\n",
    "                print(f\"Agent {agent} reward: {game.reward(agent)}\")\n",
    "                print(f\"Agent {agent} observe: {game.observe(agent)}\")\n",
    "        \n",
    "        if render:\n",
    "            game.render()\n",
    "            time.sleep(0.1)\n",
    "\n",
    "    \n",
    "    return cum_rewards\n",
    "\n",
    "# Función simplificada de entrenamiento\n",
    "def simple_train(game, agents, train_config):\n",
    "    \n",
    "    stats = {\n",
    "        'average_rewards': {agent: [] for agent in game.agents},\n",
    "        'episode_rewards': {agent: [] for agent in game.agents},\n",
    "        'actions_taken': {agent: [] for agent in game.agents},\n",
    "    }\n",
    "    \n",
    "    for i in range(train_config['iterations']):\n",
    "        iteration_rewards = {agent: 0.0 for agent in game.agents}\n",
    "        \n",
    "        for e in range(train_config['episodes']):\n",
    "            rewards = play_episode(game, agents, verbose=False)\n",
    "            \n",
    "            for agent in game.agents:\n",
    "                stats['episode_rewards'][agent].append(rewards[agent])\n",
    "                iteration_rewards[agent] += rewards[agent]\n",
    "                stats['actions_taken'][agent].append(agents[agent].last_action)\n",
    "\n",
    "                \n",
    "        \n",
    "        for agent in game.agents:\n",
    "            stats['average_rewards'][agent].append(iteration_rewards[agent] / train_config['episodes'])\n",
    "    return stats\n",
    "\n",
    "# Función para visualizar resultados\n",
    "def plot_simple_results(stats):\n",
    "    plt.figure(figsize=(12, 6))\n",
    "    for agent, rewards in stats['average_rewards'].items():\n",
    "        plt.plot(rewards, label=f\"Agent {agent}\")\n",
    "    plt.title(\"Training Progress\")\n",
    "    plt.xlabel(\"Iteration\")\n",
    "    plt.ylabel(\"Average Reward\")\n",
    "    plt.legend()\n",
    "    plt.grid(True, alpha=0.3)\n",
    "    plt.show()\n",
    "\n",
    "    \n",
    "\n",
    "# Ejecución principal\n",
    "def run_simple_experiment(config):\n",
    "    game = Foraging(config=config['game'], seed=config.get('seed', 1))\n",
    "    agents = {}\n",
    "    \n",
    "    for agent_id in game.agents:\n",
    "        agent_type = config['agent_types'].get(agent_id, 'iql')\n",
    "        if agent_type == 'jal':\n",
    "            agents[agent_id] = JALAgent(game, agent_id, config['iql'])\n",
    "        else:\n",
    "            agents[agent_id] = IQLAgent(game, agent_id, config['iql'])\n",
    "\n",
    "    game.reset()\n",
    "    for agent in game.agents:\n",
    "        print(f\"Agent: {agent}\")\n",
    "        print(f\"Observation: {game.observe(agent)}\")\n",
    "        \n",
    "    print(\"Starting training...\")\n",
    "    train_stats = simple_train(game, agents, config['train_config'])\n",
    "    \n",
    "    print(\"\\nTraining completed. Showing results...\")\n",
    "    plot_simple_results(train_stats)\n",
    "    \n",
    "    print(\"\\nRunning evaluation...\")\n",
    "    eval_rewards = {agent: [] for agent in game.agents}\n",
    "    actions_taken = {agent: [] for agent in game.agents}\n",
    "    for agent in game.agents:\n",
    "        agents[agent].learn = False  # Desactivar el aprendizaje para la evaluación\n",
    "    for _ in range(config['eval_config']['episodes']):\n",
    "        rewards = play_episode(game, agents, render=False)\n",
    "        for agent in rewards:\n",
    "            eval_rewards[agent].append(rewards[agent])\n",
    "\n",
    "    \n",
    "    print(\"\\nEvaluation results:\")\n",
    "    for agent, rewards in eval_rewards.items():\n",
    "        print(f\"Agent {agent}: Avg reward = {np.mean(rewards):.2f} ± {np.std(rewards):.2f}\")"
   ]
  },
  {
   "cell_type": "code",
   "execution_count": 4,
   "id": "b06ea4ae",
   "metadata": {},
   "outputs": [
    {
     "name": "stderr",
     "output_type": "stream",
     "text": [
      "/usr/local/Caskroom/miniconda/base/envs/pettingzoo_games/lib/python3.11/site-packages/gymnasium/spaces/box.py:130: UserWarning: \u001b[33mWARN: Box bound precision lowered by casting to float32\u001b[0m\n",
      "  gym.logger.warn(f\"Box bound precision lowered by casting to {self.dtype}\")\n",
      "/usr/local/Caskroom/miniconda/base/envs/pettingzoo_games/lib/python3.11/site-packages/gymnasium/utils/passive_env_checker.py:275: UserWarning: \u001b[33mWARN: The reward returned by `step()` must be a float, int, np.integer or np.floating, actual type: <class 'list'>\u001b[0m\n",
      "  logger.warn(\n"
     ]
    },
    {
     "name": "stdout",
     "output_type": "stream",
     "text": [
      "Agent: agent_0\n",
      "Observation: [3. 1. 4. 0. 0. 2. 4. 1. 1. 4. 2. 1.]\n",
      "Agent: agent_1\n",
      "Observation: [3. 1. 4. 4. 1. 1. 0. 0. 2. 4. 2. 1.]\n",
      "Agent: agent_2\n",
      "Observation: [3. 1. 4. 4. 2. 1. 0. 0. 2. 4. 1. 1.]\n",
      "Starting training...\n",
      "\n",
      "Training completed. Showing results...\n"
     ]
    },
    {
     "data": {
      "image/png": "[encoded data removed]",
      "text/plain": [
       "<Figure size 1200x600 with 1 Axes>"
      ]
     },
     "metadata": {},
     "output_type": "display_data"
    },
    {
     "name": "stdout",
     "output_type": "stream",
     "text": [
      "\n",
      "Running evaluation...\n",
      "\n",
      "Evaluation results:\n",
      "Agent agent_0: Avg reward = 0.50 ± 0.00\n",
      "Agent agent_1: Avg reward = 0.25 ± 0.00\n",
      "Agent agent_2: Avg reward = 0.25 ± 0.00\n"
     ]
    }
   ],
   "source": [
    "# Ejecutar el experimento\n",
    "run_simple_experiment(config)\n",
    "\n"
   ]
  },
  {
   "cell_type": "code",
   "execution_count": 17,
   "id": "bef22982",
   "metadata": {},
   "outputs": [
    {
     "data": {
      "text/plain": [
       "'notebook_exports/simple_experiment_20250522-092951.html'"
      ]
     },
     "execution_count": 17,
     "metadata": {},
     "output_type": "execute_result"
    }
   ],
   "source": [
    "save_notebook_to_html()"
   ]
  }
 ],
 "metadata": {
  "kernelspec": {
   "display_name": "pettingzoo_games",
   "language": "python",
   "name": "python3"
  },
  "language_info": {
   "codemirror_mode": {
    "name": "ipython",
    "version": 3
   },
   "file_extension": ".py",
   "mimetype": "text/x-python",
   "name": "python",
   "nbconvert_exporter": "python",
   "pygments_lexer": "ipython3",
   "version": "3.11.11"
  }
 },
 "nbformat": 4,
 "nbformat_minor": 5
}

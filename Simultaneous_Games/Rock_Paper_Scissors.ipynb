{
 "cells": [
  {
   "cell_type": "code",
   "execution_count": null,
   "id": "27280df3",
   "metadata": {},
   "outputs": [],
   "source": [
    "from games.rps import RPS\n",
    "from agents.fictitiousplay import FictitiousPlay\n",
    "from agents.regretmatching import RegretMatching\n",
    "from nf_functions import plot_results, simulate_game"
   ]
  },
  {
   "cell_type": "code",
   "execution_count": null,
   "id": "09d63d44",
   "metadata": {},
   "outputs": [],
   "source": [
    "history_rps_fp = simulate_game(\n",
    "    RPS,\n",
    "    [FictitiousPlay, FictitiousPlay],\n",
    "    n_iter=1000\n",
    ")\n",
    "plot_results(history_rps_fp, \"RPS: FP vs FP\")"
   ]
  },
  {
   "cell_type": "code",
   "execution_count": null,
   "id": "9a44a795",
   "metadata": {},
   "outputs": [],
   "source": [
    "# cell 3: RM vs RM en RPS\n",
    "history_rps_rm = simulate_game(\n",
    "    RPS,\n",
    "    [RegretMatching, RegretMatching],\n",
    "    n_iter=1000\n",
    ")\n",
    "plot_results(history_rps_rm, \"RPS: RM vs RM\")"
   ]
  },
  {
   "cell_type": "code",
   "execution_count": null,
   "id": "3b47584c",
   "metadata": {},
   "outputs": [],
   "source": []
  }
 ],
 "metadata": {
  "language_info": {
   "name": "python"
  }
 },
 "nbformat": 4,
 "nbformat_minor": 5
}

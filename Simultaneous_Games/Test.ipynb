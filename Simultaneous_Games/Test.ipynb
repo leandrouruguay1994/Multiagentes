{
 "cells": [
  {
   "cell_type": "code",
   "execution_count": 1,
   "metadata": {},
   "outputs": [],
   "source": [
    "from games.mp import MP \n",
    "from agents.random_agent import RandomAgent\n",
    "from agents.regretmatching import *"
   ]
  },
  {
   "cell_type": "code",
   "execution_count": 2,
   "metadata": {},
   "outputs": [],
   "source": [
    "# Create game\n",
    "g = MP()"
   ]
  },
  {
   "cell_type": "code",
   "execution_count": 3,
   "metadata": {},
   "outputs": [],
   "source": [
    "# Reset game\n",
    "g.reset()"
   ]
  },
  {
   "cell_type": "code",
   "execution_count": 4,
   "metadata": {},
   "outputs": [],
   "source": [
    "# Create agents\n",
    "agent_0 = RegretMatching(game=g, agent=g.agents[0], seed=1)\n",
    "agent_1 = RandomAgent(game=g, agent=g.agents[1], seed=2)\n"
   ]
  },
  {
   "cell_type": "code",
   "execution_count": 5,
   "metadata": {},
   "outputs": [
    {
     "name": "stdout",
     "output_type": "stream",
     "text": [
      "Play 0\n",
      "agent_0 T -1.0\n",
      "agent_1 H 1.0\n",
      "2\n",
      "<class 'numpy.int64'>\n"
     ]
    },
    {
     "ename": "UFuncTypeError",
     "evalue": "Cannot cast ufunc 'add' output from dtype('O') to dtype('float64') with casting rule 'same_kind'",
     "output_type": "error",
     "traceback": [
      "\u001b[31m---------------------------------------------------------------------------\u001b[39m",
      "\u001b[31mUFuncTypeError\u001b[39m                            Traceback (most recent call last)",
      "\u001b[36mCell\u001b[39m\u001b[36m \u001b[39m\u001b[32mIn[5]\u001b[39m\u001b[32m, line 2\u001b[39m\n\u001b[32m      1\u001b[39m \u001b[38;5;28;01mfor\u001b[39;00m i \u001b[38;5;129;01min\u001b[39;00m \u001b[38;5;28mrange\u001b[39m(\u001b[32m10\u001b[39m):\n\u001b[32m----> \u001b[39m\u001b[32m2\u001b[39m     action_0 = \u001b[43magent_0\u001b[49m\u001b[43m.\u001b[49m\u001b[43maction\u001b[49m\u001b[43m(\u001b[49m\u001b[43m)\u001b[49m\n\u001b[32m      3\u001b[39m     action_1 = agent_1.action()\n\u001b[32m      4\u001b[39m     actions = {agent_0.agent: action_0, agent_1.agent: action_1}\n",
      "\u001b[36mFile \u001b[39m\u001b[32mc:\\Users\\landr\\MasterIA\\multiagentes\\Simultaneous_Games\\agents\\regretmatching.py:70\u001b[39m, in \u001b[36mRegretMatching.action\u001b[39m\u001b[34m(self)\u001b[39m\n\u001b[32m     69\u001b[39m \u001b[38;5;28;01mdef\u001b[39;00m\u001b[38;5;250m \u001b[39m\u001b[34maction\u001b[39m(\u001b[38;5;28mself\u001b[39m):\n\u001b[32m---> \u001b[39m\u001b[32m70\u001b[39m     \u001b[38;5;28;43mself\u001b[39;49m\u001b[43m.\u001b[49m\u001b[43mupdate\u001b[49m\u001b[43m(\u001b[49m\u001b[43m)\u001b[49m\n\u001b[32m     71\u001b[39m     \u001b[38;5;28;01mreturn\u001b[39;00m np.argmax(np.random.multinomial(\u001b[32m1\u001b[39m, \u001b[38;5;28mself\u001b[39m.curr_policy, size=\u001b[32m1\u001b[39m))\n",
      "\u001b[36mFile \u001b[39m\u001b[32mc:\\Users\\landr\\MasterIA\\multiagentes\\Simultaneous_Games\\agents\\regretmatching.py:64\u001b[39m, in \u001b[36mRegretMatching.update\u001b[39m\u001b[34m(self)\u001b[39m\n\u001b[32m     62\u001b[39m    \u001b[38;5;28;01mreturn\u001b[39;00m\n\u001b[32m     63\u001b[39m regrets = \u001b[38;5;28mself\u001b[39m.regrets(actions)\n\u001b[32m---> \u001b[39m\u001b[32m64\u001b[39m \u001b[38;5;28;43mself\u001b[39;49m\u001b[43m.\u001b[49m\u001b[43mcum_regrets\u001b[49m\u001b[43m \u001b[49m\u001b[43m+\u001b[49m\u001b[43m=\u001b[49m\u001b[43m \u001b[49m\u001b[43mregrets\u001b[49m\n\u001b[32m     65\u001b[39m \u001b[38;5;28mself\u001b[39m.regret_matching()\n\u001b[32m     66\u001b[39m \u001b[38;5;28mself\u001b[39m.niter += \u001b[32m1\u001b[39m\n",
      "\u001b[31mUFuncTypeError\u001b[39m: Cannot cast ufunc 'add' output from dtype('O') to dtype('float64') with casting rule 'same_kind'"
     ]
    }
   ],
   "source": [
    "for i in range(10):\n",
    "    action_0 = agent_0.action()\n",
    "    action_1 = agent_1.action()\n",
    "    actions = {agent_0.agent: action_0, agent_1.agent: action_1}\n",
    "    g.step(actions)\n",
    "    print(f\"Play {i}\")\n",
    "    g.render()"
   ]
  }
 ],
 "metadata": {
  "kernelspec": {
   "display_name": "pettingzoo",
   "language": "python",
   "name": "python3"
  },
  "language_info": {
   "codemirror_mode": {
    "name": "ipython",
    "version": 3
   },
   "file_extension": ".py",
   "mimetype": "text/x-python",
   "name": "python",
   "nbconvert_exporter": "python",
   "pygments_lexer": "ipython3",
   "version": "3.11.11"
  },
  "orig_nbformat": 4
 },
 "nbformat": 4,
 "nbformat_minor": 2
}

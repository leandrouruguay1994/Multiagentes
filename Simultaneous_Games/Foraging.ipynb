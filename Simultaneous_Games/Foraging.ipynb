{
 "cells": [
  {
   "cell_type": "code",
   "execution_count": null,
   "id": "9d214b41",
   "metadata": {},
   "outputs": [],
   "source": [
    "#!pip install lbforaging"
   ]
  },
  {
   "cell_type": "code",
   "execution_count": null,
   "id": "7d249b5d",
   "metadata": {},
   "outputs": [],
   "source": [
    "import lbforaging\n",
    "from games.foraging import Foraging \n",
    "import numpy as np\n",
    "import time\n",
    "from agents.random_agent import RandomAgent"
   ]
  },
  {
   "cell_type": "code",
   "execution_count": null,
   "id": "cadde2c0",
   "metadata": {},
   "outputs": [],
   "source": [
    "game = Foraging(config=None, seed=1)"
   ]
  },
  {
   "cell_type": "code",
   "execution_count": null,
   "id": "a53da2c9",
   "metadata": {},
   "outputs": [],
   "source": [
    "game.reset()\n",
    "for agent in game.agents:\n",
    "    print(f\"Agent {agent}\")\n",
    "    print(f\"Observed state: {game.observe(agent)}\")\n",
    "    print(f\"Observed actions: {game.observe_action(agent)}\")"
   ]
  },
  {
   "cell_type": "code",
   "execution_count": null,
   "id": "76145385",
   "metadata": {},
   "outputs": [],
   "source": [
    "def play_episode(game, agents, verbose=False, render=False):\n",
    "\n",
    "    # Initialize the game\n",
    "    game.reset()\n",
    "\n",
    "    # Print initial observations\n",
    "    if verbose:\n",
    "        print(f\"Step: {game.env.current_step}\")\n",
    "        for agent in game.agents:\n",
    "            print(f\"Agent {agent}: {game.observe(agent)}\")\n",
    "\n",
    "    # Initialize rewards for each agent\n",
    "    cum_rewards = dict(map(lambda agent: (agent, 0), game.agents))\n",
    "\n",
    "    # render the game if required\n",
    "    if render:\n",
    "        game.render()\n",
    "        time.sleep(0.5)\n",
    "\n",
    "    while not game.done():\n",
    "\n",
    "        # Get actions from each agent\n",
    "        actions = dict(map(lambda agent: (agent, agents[agent].action()), game.agents))\n",
    "\n",
    "        # Perform the actions in the game\n",
    "        game.step(actions)\n",
    "\n",
    "        # Update the cum_rewards for each agent\n",
    "        for agent in game.agents:\n",
    "            cum_rewards[agent] += game.reward(agent)\n",
    "\n",
    "        # Print the rewards if verbose is enabled\n",
    "        if verbose:\n",
    "            print(f\"Step: {game.env.current_step}\")\n",
    "            for agent in game.agents:\n",
    "                print(f\"Agent {agent} action: {actions[agent]} ({game.action_set[actions[agent]]})\")\n",
    "                print(f\"Agent {agent} reward: {game.reward(agent)}\")\n",
    "                print(f\"Agent {agent} next state: {game.observe(agent)}\")\n",
    "                print(f\"Agent {agent} joint action: {game.observe_action(agent)}\")\n",
    "        \n",
    "        if render:\n",
    "            game.render()\n",
    "            time.sleep(0.5)\n",
    "        \n",
    "    return cum_rewards"
   ]
  },
  {
   "cell_type": "code",
   "execution_count": null,
   "id": "3dbf1e50",
   "metadata": {},
   "outputs": [],
   "source": [
    "agent_dict = dict(map(lambda agent: (agent, RandomAgent(game=game, agent=agent)), game.agents))"
   ]
  },
  {
   "cell_type": "code",
   "execution_count": null,
   "id": "f778210d",
   "metadata": {},
   "outputs": [],
   "source": [
    "def run(game, agent_dict, n_episodes=100, verbose=False, render=False):\n",
    "    total_rewards = dict(map(lambda agent: (agent, 0), game.agents))\n",
    "    for episode in range(n_episodes):\n",
    "        if verbose:\n",
    "            print(f\"-- Episode: {episode}\")\n",
    "        cum_rewards = play_episode(game, agent_dict, verbose=verbose, render=render)\n",
    "        for agent in game.agents:\n",
    "            total_rewards[agent] += cum_rewards[agent]\n",
    "        if verbose:\n",
    "            for agent in game.agents:\n",
    "                print(f\"Total rewards {agent}: {total_rewards[agent]}\")\n",
    "            print(\"--\")\n",
    "    return total_rewards"
   ]
  },
  {
   "cell_type": "code",
   "execution_count": null,
   "id": "4ec47912",
   "metadata": {},
   "outputs": [],
   "source": [
    "run(game=game, agent_dict=agent_dict, n_episodes=1, verbose=True, render=False)"
   ]
  }
 ],
 "metadata": {
  "kernelspec": {
   "display_name": "pettingzoo_games",
   "language": "python",
   "name": "python3"
  },
  "language_info": {
   "codemirror_mode": {
    "name": "ipython",
    "version": 3
   },
   "file_extension": ".py",
   "mimetype": "text/x-python",
   "name": "python",
   "nbconvert_exporter": "python",
   "pygments_lexer": "ipython3",
   "version": "3.11.11"
  }
 },
 "nbformat": 4,
 "nbformat_minor": 5
}
